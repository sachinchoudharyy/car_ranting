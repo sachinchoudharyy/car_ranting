{
 "cells": [
  {
   "cell_type": "code",
   "execution_count": 18,
   "metadata": {},
   "outputs": [
    {
     "name": "stdout",
     "output_type": "stream",
     "text": [
      "Available Cars:\n",
      "Car ID: 001, Model: Alto, Color: Blue\n",
      "Car ID: 002, Model: Thar, Color: Red\n",
      "Car ID: 003, Model: Mustang, Color: Yellow\n"
     ]
    }
   ],
   "source": [
    "class Car:\n",
    "    def __init__(self, car_id, model, color):\n",
    "        self.car_id = car_id\n",
    "        self.model = model\n",
    "        self.color = color\n",
    "        self.rented_by = None\n",
    "\n",
    "class Customer:\n",
    "    def __init__(self,  name):\n",
    "        self.name = name\n",
    "        self.rented_car = None\n",
    "\n",
    "class ranting_car:\n",
    "    def __init__(self):\n",
    "        self.cars = {}\n",
    "        self.customers = {}\n",
    "\n",
    "    def add_car(self, car_id, model, color):\n",
    "        self.cars[car_id] = Car(car_id, model, color)\n",
    "\n",
    "    def add_customer(self,  name):\n",
    "        self.customers[name] = Customer( name)\n",
    "\n",
    "    def rent_car(self, name, car_id):\n",
    "        if car_id in self.cars and self.cars[car_id].rented_by is None:\n",
    "            self.customers[name].rented_car = self.cars[car_id]\n",
    "            self.cars[car_id].rented_by = self.customers[name]\n",
    "            print(f\"Car {car_id} rented by customer {name}.\")\n",
    "        else:\n",
    "            print(\"Car is not available for rent.\")\n",
    "\n",
    "    def return_car(self, name):\n",
    "        if self.customers[name].rented_car:\n",
    "            car_id = self.customers[name].rented_car.car_id\n",
    "            self.cars[car_id].rented_by = None\n",
    "            self.customers[name].rented_car = None\n",
    "            print(f\"Car {car_id} returned by customer {name}.\")\n",
    "        else:\n",
    "            print(\"Customer has not rented any car.\")\n",
    "\n",
    "    def available_cars(self):\n",
    "        available_cars = [car for car in self.cars.values() if car.rented_by is None]\n",
    "        if available_cars:\n",
    "            print(\"Available Cars:\")\n",
    "            for car in available_cars:\n",
    "                print(f\"Car ID: {car.car_id}, Model: {car.model}, Color: {car.color}\")\n",
    "        else:\n",
    "            print(\"No cars available for rent.\")\n",
    "\n",
    "car_Ranting = ranting_car()\n",
    "\n",
    "\n",
    "car_Ranting.add_car(\"001\", \"Alto\", \"Blue\")\n",
    "car_Ranting.add_car(\"002\", \"Thar\", \"Red\")\n",
    "car_Ranting.add_car(\"003\", \"Mustang\", \"Yellow\")\n",
    "i=input(\"enter cudtomer name\")\n",
    "customer_list=[]\n",
    "car_Ranting.add_customer( i)\n",
    "customer_list.append(i)\n",
    "\n",
    "\n",
    "choice=int(input('''press 1 for rent a car\n",
    "                 press 2 for return a car\n",
    "                 press 3 for cheecking available cars'''))\n",
    "if choice==1:\n",
    " car_Ranting.rent_car(i, \"001\")\n",
    "if choice==2:\n",
    "    j=input(\"enter name\")\n",
    "    if j in customer_list:\n",
    "     car_Ranting.return_car(j)\n",
    "    else:\n",
    "      print(\"thios is not our customer\")\n",
    "\n",
    "\n",
    "if choice==3:\n",
    "\n",
    " car_Ranting.available_cars()\n"
   ]
  },
  {
   "cell_type": "code",
   "execution_count": null,
   "metadata": {},
   "outputs": [],
   "source": []
  }
 ],
 "metadata": {
  "kernelspec": {
   "display_name": "Python 3",
   "language": "python",
   "name": "python3"
  },
  "language_info": {
   "codemirror_mode": {
    "name": "ipython",
    "version": 3
   },
   "file_extension": ".py",
   "mimetype": "text/x-python",
   "name": "python",
   "nbconvert_exporter": "python",
   "pygments_lexer": "ipython3",
   "version": "3.11.4"
  }
 },
 "nbformat": 4,
 "nbformat_minor": 2
}
